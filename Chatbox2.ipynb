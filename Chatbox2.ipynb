{
 "cells": [
  {
   "metadata": {
    "ExecuteTime": {
     "end_time": "2025-04-25T18:07:13.498989Z",
     "start_time": "2025-04-25T18:07:13.488553Z"
    }
   },
   "cell_type": "code",
   "source": [
    "# comment out this block \n",
    "# import os\n",
    "# from dotenv import load_dotenv\n",
    "# \n",
    "# load_dotenv()\n",
    "# api_key = os.getenv(\"OPENAI_API_KEY\")"
   ],
   "id": "bbd9de482c832a1",
   "outputs": [],
   "execution_count": 1
  },
  {
   "metadata": {
    "ExecuteTime": {
     "end_time": "2025-04-25T20:05:08.128567Z",
     "start_time": "2025-04-25T20:03:19.189514Z"
    }
   },
   "cell_type": "code",
   "source": [
    "# model\n",
    "import pandas as pd\n",
    "from langchain_openai import ChatOpenAI\n",
    "from langchain_core.prompts import PromptTemplate\n",
    "from langchain_core.output_parsers import StrOutputParser\n",
    "from langchain_experimental.agents import create_pandas_dataframe_agent\n",
    "\n",
    "# we may have multiple datasets\n",
    "paths = \"D:/syjnl/Documents/GenAI/AI project/genAI/Soccer.xlsx\"      # depending on upload process, don't need to be this form\n",
    "df = pd.read_excel(paths)\n",
    "\n",
    "# set temperature = 0 so that we get deterministic answer\n",
    "llm = ChatOpenAI(model=\"gpt-4o\", temperature=0, max_tokens=512, openai_api_key = api_key)\n",
    "\n",
    "# extract the python code for the user question\n",
    "agent = create_pandas_dataframe_agent(\n",
    "    llm,\n",
    "    df,\n",
    "    agent_type = \"tool-calling\",\n",
    "    allow_dangerous_code = True,\n",
    "    verbose = False)\n",
    "\n",
    "def extract_python(text): \n",
    "    lines = text.splitlines()\n",
    "    idx = lines.index(\"```python\")\n",
    "    return \"\\n\".join(lines[idx:])\n",
    "\n",
    "answer_prompt = PromptTemplate.from_template(\n",
    "    \"\"\"Given the following user question, corresponding code and results, present the code and answer the user question in a clear, conversational style.\n",
    "    \n",
    "    Question: {question}\n",
    "    Code: {code}\n",
    "    Result: {result}\n",
    "    \n",
    "    Answer:\"\"\")\n",
    "\n",
    "rephrase_answer = answer_prompt | llm | StrOutputParser()\n",
    "\n",
    "print(\"Ask anything (type 'exit' to quit):\", '\\n')\n",
    "while True:\n",
    "    q = input(\">>\")\n",
    "    if q.lower() in {\"exit\", \"quit\"}:\n",
    "        break\n",
    "    try:\n",
    "        raw = agent.invoke(q + \" Provide the executed code as well.\")\n",
    "        print(\"Raw GPT-4o output:\", '\\n', raw, '\\n')\n",
    "        \n",
    "        code = extract_python(raw[\"output\"])\n",
    "        print(\"Executing Python: \", '\\n', code, '\\n')\n",
    "        \n",
    "        result = raw[\"output\"].split('\\n')[0]\n",
    "        print(\"Raw Result: \", '\\n', result, '\\n')\n",
    "        \n",
    "        # 9. Rephrase into human-friendly language\n",
    "        human_answer = rephrase_answer.invoke({\n",
    "            \"question\": q,\n",
    "            \"code\": code,\n",
    "            \"result\": result\n",
    "        })\n",
    "        print(\"Rephrased Answer:\", '\\n', human_answer, \"\\n\")\n",
    "\n",
    "    except Exception as err:\n",
    "        print(\"Error:\", err, \"\\n\")"
   ],
   "id": "a1f7c8792421597e",
   "outputs": [
    {
     "name": "stdout",
     "output_type": "stream",
     "text": [
      "Ask anything (type 'exit' to quit): \n",
      "\n",
      "Raw GPT-4o output: \n",
      " {'input': 'how many games did Man City and Man United win in total? Provide the executed code as well.', 'output': \"Man United won 9 games, and Man City won 13 games in total. \\n\\nHere is the executed code:\\n\\n```python\\nman_united_wins = df[(df['home'] == 'Man United') & (df['result_class'] == 'W')].shape[0] + df[(df['away'] == 'Man United') & (df['result_class'] == 'L')].shape[0]\\nman_city_wins = df[(df['home'] == 'Man City') & (df['result_class'] == 'W')].shape[0] + df[(df['away'] == 'Man City') & (df['result_class'] == 'L')].shape[0]\\n```\"} \n",
      "\n",
      "Executing Python:  \n",
      " ```python\n",
      "man_united_wins = df[(df['home'] == 'Man United') & (df['result_class'] == 'W')].shape[0] + df[(df['away'] == 'Man United') & (df['result_class'] == 'L')].shape[0]\n",
      "man_city_wins = df[(df['home'] == 'Man City') & (df['result_class'] == 'W')].shape[0] + df[(df['away'] == 'Man City') & (df['result_class'] == 'L')].shape[0]\n",
      "``` \n",
      "\n",
      "Raw Result:  \n",
      " Man United won 9 games, and Man City won 13 games in total.  \n",
      "\n",
      "Rephrased Answer: \n",
      " To find out how many games Manchester United and Manchester City won in total, we used a Python script to analyze a dataset of match results. Here's a breakdown of the code and the results:\n",
      "\n",
      "The code calculates the number of wins for each team by checking two conditions:\n",
      "1. For home games, it counts the matches where the team is listed as the home team and the result is a win ('W').\n",
      "2. For away games, it counts the matches where the team is listed as the away team and the result is a loss ('L'), which indicates that the home team (the opponent) lost, meaning the away team (our team of interest) won.\n",
      "\n",
      "Here's the code used:\n",
      "\n",
      "```python\n",
      "man_united_wins = df[(df['home'] == 'Man United') & (df['result_class'] == 'W')].shape[0] + df[(df['away'] == 'Man United') & (df['result_class'] == 'L')].shape[0]\n",
      "man_city_wins = df[(df['home'] == 'Man City') & (df['result_class'] == 'W')].shape[0] + df[(df['away'] == 'Man City') & (df['result_class'] == 'L')].shape[0]\n",
      "```\n",
      "\n",
      "According to the results from this code, Manchester United won a total of 9 games, and Manchester City won a total of 13 games. So, together, they won 22 games in total. \n",
      "\n"
     ]
    }
   ],
   "execution_count": 65
  },
  {
   "metadata": {},
   "cell_type": "code",
   "outputs": [],
   "execution_count": null,
   "source": "",
   "id": "d51386c9cb7ddb5a"
  }
 ],
 "metadata": {
  "kernelspec": {
   "display_name": "Python 3",
   "language": "python",
   "name": "python3"
  },
  "language_info": {
   "codemirror_mode": {
    "name": "ipython",
    "version": 2
   },
   "file_extension": ".py",
   "mimetype": "text/x-python",
   "name": "python",
   "nbconvert_exporter": "python",
   "pygments_lexer": "ipython2",
   "version": "2.7.6"
  }
 },
 "nbformat": 4,
 "nbformat_minor": 5
}
